{
  "nbformat": 4,
  "nbformat_minor": 0,
  "metadata": {
    "colab": {
      "name": "FinalMathHW.ipynb",
      "provenance": [],
      "collapsed_sections": [],
      "authorship_tag": "ABX9TyP8v57lBaHUJ1EwGhqKM/HK",
      "include_colab_link": true
    },
    "kernelspec": {
      "name": "python3",
      "display_name": "Python 3"
    },
    "language_info": {
      "name": "python"
    }
  },
  "cells": [
    {
      "cell_type": "markdown",
      "metadata": {
        "id": "view-in-github",
        "colab_type": "text"
      },
      "source": [
        "<a href=\"https://colab.research.google.com/github/jayleecunysps/AssignmentforSPS/blob/main/FinalMathHW.ipynb\" target=\"_parent\"><img src=\"https://colab.research.google.com/assets/colab-badge.svg\" alt=\"Open In Colab\"/></a>"
      ]
    },
    {
      "cell_type": "markdown",
      "source": [
        "Q1\tThe weights of steers in a herd are distributed normally.  The variance is 40,000 and the mean steer weight is 1300 lbs.  Find the probability that the weight of a randomly selected steer is greater than 979 lbs. (Round your answer to 4 decimal places)"
      ],
      "metadata": {
        "id": "cjGT0cG6LoNg"
      }
    },
    {
      "cell_type": "code",
      "execution_count": 300,
      "metadata": {
        "colab": {
          "base_uri": "https://localhost:8080/"
        },
        "id": "aCoNUTpVKKpI",
        "outputId": "20e18f9d-b821-4e29-ae90-0cb6421412f2"
      },
      "outputs": [
        {
          "output_type": "stream",
          "name": "stdout",
          "text": [
            "probability is 0.9458\n"
          ]
        }
      ],
      "source": [
        "from scipy.stats import norm\n",
        "from scipy.stats import binom as b\n",
        "from scipy.stats import t\n",
        "import matplotlib.pyplot as plt\n",
        "import numpy as np\n",
        "import math\n",
        "\n",
        "print(\"probability is\",round(1-norm.cdf(979, loc=1300, scale=200),4))  #mean=loc standard diviration"
      ]
    },
    {
      "cell_type": "markdown",
      "source": [
        "Q2 \tSVGA monitors manufactured by TSI Electronics have life spans that have a normal distribution with a variance of 1,960,000 and a mean life span of 11,000 hours.  If a SVGA monitor is selected at random, find the probability that the life span of the monitor will be more than 8340 hours. (Round your answer to 4 decimal places)\n"
      ],
      "metadata": {
        "id": "55hNE3i3Lm31"
      }
    },
    {
      "cell_type": "code",
      "source": [
        "\n",
        "print(\"probability is\",round(1-norm.cdf(8340, loc=11000, scale=1400),4))"
      ],
      "metadata": {
        "colab": {
          "base_uri": "https://localhost:8080/"
        },
        "id": "i7RXgY8wLmfT",
        "outputId": "71468f66-319f-4dd1-82a0-2430e30df10c"
      },
      "execution_count": 301,
      "outputs": [
        {
          "output_type": "stream",
          "name": "stdout",
          "text": [
            "probability is 0.9713\n"
          ]
        }
      ]
    },
    {
      "cell_type": "markdown",
      "source": [
        "Q3 \tSuppose the mean income of firms in the industry for a year is 80 million dollars with a standard deviation of 3 million dollars.  If incomes for the industry are distributed normally, what is the probability that a randomly selected firm will earn between 83 and 85 million dollars? (Round your answer to 4 decimal places)\n"
      ],
      "metadata": {
        "id": "_nMZZaJ0MSYm"
      }
    },
    {
      "cell_type": "code",
      "source": [
        "print(\"probability is\", round(norm.cdf(85, loc=80,scale=3)-norm.cdf(83,loc=80,scale=3),4))"
      ],
      "metadata": {
        "colab": {
          "base_uri": "https://localhost:8080/"
        },
        "id": "XH7bDKLwMUvV",
        "outputId": "d9df4c42-c0eb-4160-e0f8-c34f39b393c3"
      },
      "execution_count": 302,
      "outputs": [
        {
          "output_type": "stream",
          "name": "stdout",
          "text": [
            "probability is 0.1109\n"
          ]
        }
      ]
    },
    {
      "cell_type": "markdown",
      "source": [
        "Q4\tSuppose GRE Verbal scores are normally distributed with a mean of 456 and a standard deviation of 123.  A university plans to offer tutoring jobs to students whose scores are in the top 14%.  What is the minimum score required for the job offer?  Round your answer to the nearest whole number, if necessary."
      ],
      "metadata": {
        "id": "p3wwMup4MVBo"
      }
    },
    {
      "cell_type": "code",
      "source": [
        "print(\"The minimum score required is\",round(norm.ppf(.86, loc=456,scale=123)))"
      ],
      "metadata": {
        "colab": {
          "base_uri": "https://localhost:8080/"
        },
        "id": "Q6z-3XzGMelD",
        "outputId": "a3f9a967-94d2-4df4-cd97-3d3e1feb5f23"
      },
      "execution_count": 303,
      "outputs": [
        {
          "output_type": "stream",
          "name": "stdout",
          "text": [
            "The minimum score required is 589\n"
          ]
        }
      ]
    },
    {
      "cell_type": "markdown",
      "source": [
        "Q5 \tThe lengths of nails produced in a factory are normally distributed with a mean of 6.13 centimeters and a standard deviation of 0.06 centimeters.  Find the two lengths that separate the top 7% and the bottom 7%.  These lengths could serve as limits used to identify which nails should be rejected.  Round your answer to the nearest hundredth, if necessary.\n"
      ],
      "metadata": {
        "id": "Cc5-IR1TMfRP"
      }
    },
    {
      "cell_type": "code",
      "source": [
        "print(\"Top is\",round(norm.ppf(.07,6.13,.06),2), \"and bottom is\", round(norm.ppf(.93,6.13,.06),2))  #\"\\n\" is next line"
      ],
      "metadata": {
        "colab": {
          "base_uri": "https://localhost:8080/"
        },
        "id": "EKDnlQ0xMi1R",
        "outputId": "0f15a703-5cc5-4612-984f-06de9b230320"
      },
      "execution_count": 304,
      "outputs": [
        {
          "output_type": "stream",
          "name": "stdout",
          "text": [
            "Top is 6.04 and bottom is 6.22\n"
          ]
        }
      ]
    },
    {
      "cell_type": "markdown",
      "source": [
        "Q6 \tAn English professor assigns letter grades on a test according to the following scheme.\n",
        "\tA:  Top 13% of scores\n",
        "\tB:  Scores below the top 13% and above the bottom 55%\n",
        "\tC:  Scores below the top 45% and above the bottom 20%\n",
        "\tD:  Scores below the top 80% and above the bottom 9%\n",
        "\tF:  Bottom 9% of scores\n",
        "\tScores on the test are normally distributed with a mean of 78.8 and a standard deviation of 9.8.  Find the numerical limits for a C grade.  Round your answers to the nearest whole number, if necessary.\n"
      ],
      "metadata": {
        "id": "N_RWCmp5MjW9"
      }
    },
    {
      "cell_type": "code",
      "source": [
        "print(\"The numerical limits are\",round(norm.ppf(.45,78.8,9.8),0), \"and\", round(norm.ppf(.20,78.8,9.8),0))"
      ],
      "metadata": {
        "colab": {
          "base_uri": "https://localhost:8080/"
        },
        "id": "7edXgdkyMtLX",
        "outputId": "fe55e5e7-6da9-47d7-9da3-b193d93fc099"
      },
      "execution_count": 305,
      "outputs": [
        {
          "output_type": "stream",
          "name": "stdout",
          "text": [
            "The numerical limits are 78.0 and 71.0\n"
          ]
        }
      ]
    },
    {
      "cell_type": "markdown",
      "source": [
        "Q7 \tSuppose ACT Composite scores are normally distributed with a mean of 21.2 and a standard deviation of 5.4.  A university plans to admit students whose scores are in the top 45%.  What is the minimum score required for admission?  Round your answer to the nearest tenth, if necessary.\n",
        "\n",
        " "
      ],
      "metadata": {
        "id": "_GR6hw0-MtuI"
      }
    },
    {
      "cell_type": "code",
      "source": [
        "print(\"the minimum score required is\",round(norm.ppf(.45,21.2,5.4),1))"
      ],
      "metadata": {
        "colab": {
          "base_uri": "https://localhost:8080/"
        },
        "id": "NiEdljT7Mwlr",
        "outputId": "742ba3e7-53bd-4e4a-dcc6-675f9ef0cc46"
      },
      "execution_count": 306,
      "outputs": [
        {
          "output_type": "stream",
          "name": "stdout",
          "text": [
            "the minimum score required is 20.5\n"
          ]
        }
      ]
    },
    {
      "cell_type": "markdown",
      "source": [
        "Q8\tConsider the probability that less than 11 out of 151 students will not graduate on time.  Assume the probability that a given student will not graduate on time is 9%.  Approximate the probability using the normal distribution. (Round your answer to 4 decimal places.)"
      ],
      "metadata": {
        "id": "JQ4bKNHOMyBK"
      }
    },
    {
      "cell_type": "code",
      "source": [
        "print(\"the probability is\",round(.1+b.pmf(11,151,.09),4))"
      ],
      "metadata": {
        "colab": {
          "base_uri": "https://localhost:8080/"
        },
        "id": "JCVzfy0YM1ca",
        "outputId": "63e72468-6279-4578-bb62-02e488717d5f"
      },
      "execution_count": 307,
      "outputs": [
        {
          "output_type": "stream",
          "name": "stdout",
          "text": [
            "the probability is 0.1929\n"
          ]
        }
      ]
    },
    {
      "cell_type": "markdown",
      "source": [
        "Q9\tThe mean lifetime of a tire is 48 months with a standard deviation of 7.  If 147 tires are sampled, what is the probability that the mean of the sample would be greater than 48.83 months? (Round your answer to 4 decimal places)\n"
      ],
      "metadata": {
        "id": "jjiYqzldM16s"
      }
    },
    {
      "cell_type": "code",
      "source": [
        "sd = 7\n",
        "tire = 147\n",
        "se = sd/math.sqrt(tire)\n",
        "print(\"probability is\",round(1-norm.cdf(48.83,48,se),4))"
      ],
      "metadata": {
        "colab": {
          "base_uri": "https://localhost:8080/"
        },
        "id": "ex9MNAHRM6Ff",
        "outputId": "1afc6ba9-54a7-492a-f65e-ae3c812e83b0"
      },
      "execution_count": 308,
      "outputs": [
        {
          "output_type": "stream",
          "name": "stdout",
          "text": [
            "probability is 0.0753\n"
          ]
        }
      ]
    },
    {
      "cell_type": "markdown",
      "source": [
        "Q10\tThe quality control manager at a computer manufacturing company believes that the mean life of a computer is 91 months, with a standard deviation of 10.  If he is correct, what is the probability that the mean of a sample of 68 computers would be greater than 93.54 months? (Round your answer to 4 decimal places)\n"
      ],
      "metadata": {
        "id": "5GZH5ylYM6We"
      }
    },
    {
      "cell_type": "code",
      "source": [
        "sd = 10\n",
        "comp = 68\n",
        "se = sd/math.sqrt(comp)\n",
        "print(\"probability is\",round(1-norm.cdf(93.54,91,se),4))"
      ],
      "metadata": {
        "colab": {
          "base_uri": "https://localhost:8080/"
        },
        "id": "OFWWjC8UM_Gy",
        "outputId": "d8b252d4-1e24-4766-82eb-01783f352866"
      },
      "execution_count": 309,
      "outputs": [
        {
          "output_type": "stream",
          "name": "stdout",
          "text": [
            "probability is 0.0181\n"
          ]
        }
      ]
    },
    {
      "cell_type": "markdown",
      "source": [
        "Q11\tA director of reservations believes that 7% of the ticketed passengers are no-shows.  If the director is right, what is the probability that the proportion of no-shows in a sample of 540 ticketed passengers would differ from the population proportion by less than 3%? (Round your answer to 4 decimal places)\n"
      ],
      "metadata": {
        "id": "vrc635fBb3r3"
      }
    },
    {
      "cell_type": "code",
      "source": [
        "print(\"probability is\",round(b.cdf(.10*540,540,.07)-b.cdf(.04*540,540,.07),4))"
      ],
      "metadata": {
        "colab": {
          "base_uri": "https://localhost:8080/"
        },
        "id": "kRU5FULYb8Mj",
        "outputId": "a2d4bb70-2812-4fba-be2c-1a63bde42497"
      },
      "execution_count": 310,
      "outputs": [
        {
          "output_type": "stream",
          "name": "stdout",
          "text": [
            "probability is 0.9947\n"
          ]
        }
      ]
    },
    {
      "cell_type": "markdown",
      "source": [
        "Q12\tA bottle maker believes that 23% of his bottles are defective.  If the bottle maker is accurate, what is the probability that the proportion of defective bottles in a sample of 602 bottles would differ from the population proportion by greater than 4%? (Round your answer to 4 decimal places)"
      ],
      "metadata": {
        "id": "vVrHx70Wb8s-"
      }
    },
    {
      "cell_type": "code",
      "source": [
        "print(\"probability is\",round(b.cdf(.27*602,602,.23)-b.cdf(.19*602,602,.23),4))"
      ],
      "metadata": {
        "colab": {
          "base_uri": "https://localhost:8080/"
        },
        "id": "Yt7BtGK-b_Xq",
        "outputId": "a9787fde-612b-47b1-9150-e71738b226af"
      },
      "execution_count": 311,
      "outputs": [
        {
          "output_type": "stream",
          "name": "stdout",
          "text": [
            "probability is 0.98\n"
          ]
        }
      ]
    },
    {
      "cell_type": "markdown",
      "source": [
        "Q13\tA research company desires to know the mean consumption of beef per week among males over age 48.  Suppose a sample of size 208 is drawn with .  Assume  .  Construct the 80% confidence interval for the mean number of lb. of beef per week among males over 48. (Round your answers to 1 decimal place) \n"
      ],
      "metadata": {
        "id": "l3CeeBJRb_yK"
      }
    },
    {
      "cell_type": "code",
      "source": [
        "print(\"lower is\",round(norm.ppf(.1,3.9,.8/np.sqrt(208)),1),\"\\n\", \"upper is\",round(norm.ppf(.9,3.9,.8/np.sqrt(208)),1))"
      ],
      "metadata": {
        "colab": {
          "base_uri": "https://localhost:8080/"
        },
        "id": "wGx7QR-Tn9Is",
        "outputId": "0c68db2b-913b-44e0-9e8d-4edb68728f2a"
      },
      "execution_count": 312,
      "outputs": [
        {
          "output_type": "stream",
          "name": "stdout",
          "text": [
            "lower is 3.8 \n",
            " upper is 4.0\n"
          ]
        }
      ]
    },
    {
      "cell_type": "markdown",
      "source": [
        "Q14\tAn economist wants to estimate the mean per capita income (in thousands of dollars) in a major city in California.  Suppose a sample of size 7472 is drawn with .  Assume  .  Construct the 98% confidence interval for the mean per capita income. (Round your answers to 1 decimal place) "
      ],
      "metadata": {
        "id": "jdgbVxtUcDdW"
      }
    },
    {
      "cell_type": "code",
      "source": [
        "print(\"lower is\",round(norm.ppf(.01,16.6,11/np.sqrt(7472)),1),\"\\n\",\"upper is\",round(norm.ppf(.99,16.6,11/np.sqrt(7472)),1))"
      ],
      "metadata": {
        "colab": {
          "base_uri": "https://localhost:8080/"
        },
        "id": "SgMzm5nNcLmz",
        "outputId": "28871223-fe5a-48c3-b909-ceee2dc389d0"
      },
      "execution_count": 313,
      "outputs": [
        {
          "output_type": "stream",
          "name": "stdout",
          "text": [
            "lower is 16.3 \n",
            " upper is 16.9\n"
          ]
        }
      ]
    },
    {
      "cell_type": "markdown",
      "source": [
        "Q15\tFind the value of t such that 0.05 of the area under the curve is to the left of t.  Assume the degrees of freedom equals 26.\n",
        "\n",
        "Step 1. Choose the picture which best describes the problem.\n",
        "\n",
        "\n",
        "Step 2. Write your answer below. "
      ],
      "metadata": {
        "id": "YoY65qoPcGi0"
      }
    },
    {
      "cell_type": "code",
      "source": [
        "print (\"step 1 is upper right\")\n",
        "tvalue=t.ppf(.95,26)\n",
        "print(\"tvalue is\",(round((tvalue),1)))\n"
      ],
      "metadata": {
        "colab": {
          "base_uri": "https://localhost:8080/"
        },
        "id": "GWnCVVFScDNs",
        "outputId": "ab58a851-52ff-4cdf-8866-784a6fa4203d"
      },
      "execution_count": 314,
      "outputs": [
        {
          "output_type": "stream",
          "name": "stdout",
          "text": [
            "step 1 is upper right\n",
            "tvalue is 1.7\n"
          ]
        }
      ]
    },
    {
      "cell_type": "markdown",
      "source": [
        "Q16\tThe following measurements ( in picocuries per liter ) were recorded by a set of helium gas detectors installed in a laboratory facility:  \n",
        "\t                                             383.6, 347.1, 371.9, 347.6, 325.8, 337\n",
        "\tUsing these measurements, construct a 90% confidence interval for the mean level of helium gas present in the facility.  Assume the population is normally distributed.  \n",
        "\n",
        "Step 1. Calculate the sample mean for the given sample data. (Round answer to 2 decimal places) \n",
        "\n",
        "\n",
        "Step 2. Calculate the sample standard deviation for the given sample data. (Round answer to 2 decimal places) \n",
        "\n",
        "\n",
        "Step 3. Find the critical value that should be used in constructing the confidence interval. (Round answer to 3 decimal places) \n",
        "\n",
        "\n",
        "Step 4. Construct the 90% confidence interval. (Round answer to 2 decimal places)"
      ],
      "metadata": {
        "id": "SibEpa2QcMTF"
      }
    },
    {
      "cell_type": "code",
      "source": [
        "data=[383.6, 347.1, 371.9, 347.6, 325.8, 337]\n",
        "mymean=np.mean(data)\n",
        "mysd=np.std(data, ddof=1)\n",
        "tvalue=t.ppf(.95,5)\n",
        "lower=mymean-tvalue*mysd/6**.5\n",
        "upper=mymean+tvalue*mysd/6**.5\n",
        "\n",
        "print(\"tvalue is \",tvalue)\n",
        "print(\"lower bound is\",lower,\", upper bound is\",upper)"
      ],
      "metadata": {
        "colab": {
          "base_uri": "https://localhost:8080/"
        },
        "id": "I6rLBuDYcP4B",
        "outputId": "716f1455-54b8-45b5-bb6f-e557b5c35a42"
      },
      "execution_count": 315,
      "outputs": [
        {
          "output_type": "stream",
          "name": "stdout",
          "text": [
            "tvalue is  2.015048372669157\n",
            "lower bound is 334.33524059559835 , upper bound is 369.998092737735\n"
          ]
        }
      ]
    },
    {
      "cell_type": "markdown",
      "source": [
        "Q17  A random sample of 16 fields of spring wheat has a mean yield of 46.4 bushels per acre and standard deviation of 2.45 bushels per acre.  Determine the 80% confidence interval for the true mean yield.  Assume the population is normally distributed.  \n",
        "\n",
        "Step 1. Find the critical value that should be used in constructing the confidence interval. (Round answer to 3 decimal places) \n",
        "\n",
        "\n",
        "Step 2. Construct the 80% confidence interval. (Round answer to 1 decimal place)\n",
        "Upper Bound:\n",
        "Lower Bound:\n",
        "\n",
        "\n"
      ],
      "metadata": {
        "id": "TamqXSTicQj9"
      }
    },
    {
      "cell_type": "markdown",
      "source": [
        ""
      ],
      "metadata": {
        "id": "QB1cOjFacYeP"
      }
    },
    {
      "cell_type": "code",
      "source": [
        "mymean=46.4\n",
        "mysd=2.45\n",
        "tvalue=t.ppf(.90,15) #90% and n-1\n",
        "lower=mymean-tvalue*mysd/16**.5\n",
        "upper=mymean+tvalue*mysd/16**.5\n",
        "print(\"tvalue is \",tvalue)\n",
        "print(\"lower bound is\",lower,\", upper bound is\",upper)"
      ],
      "metadata": {
        "colab": {
          "base_uri": "https://localhost:8080/"
        },
        "id": "ExUOrXw3cYSw",
        "outputId": "ef98c922-dd42-4945-fced-826642bc21c7"
      },
      "execution_count": 316,
      "outputs": [
        {
          "output_type": "stream",
          "name": "stdout",
          "text": [
            "tvalue is  1.3406056078504547\n",
            "lower bound is 45.57887906519159 , upper bound is 47.221120934808404\n"
          ]
        }
      ]
    },
    {
      "cell_type": "markdown",
      "source": [
        "Q18\tA toy manufacturer wants to know how many new toys children buy each year.  She thinks the mean is 8 toys per year.  Assume a previous study found the standard deviation to be 1.9.  How large of a sample would be required in order to estimate the mean number of toys bought per child at the 99% confidence level with an error of at most 0.13 toys? (Round your answer up to the next integer)"
      ],
      "metadata": {
        "id": "Zu6YsmVSceSE"
      }
    },
    {
      "cell_type": "code",
      "source": [
        "mymean=8\n",
        "mysd=1.9\n",
        "conlvl=.99\n",
        "se =.13\n",
        "z = norm.cdf(.05)\n",
        "print(z)\n",
        "ans = (z*mysd/se)**2\n",
        "print (\"Est mean is\",round(ans,0))"
      ],
      "metadata": {
        "colab": {
          "base_uri": "https://localhost:8080/"
        },
        "id": "1PgzN5gzcf_F",
        "outputId": "75a15762-925a-49a9-c409-026c3c2e0568"
      },
      "execution_count": 317,
      "outputs": [
        {
          "output_type": "stream",
          "name": "stdout",
          "text": [
            "0.5199388058383725\n",
            "Est mean is 58.0\n"
          ]
        }
      ]
    },
    {
      "cell_type": "markdown",
      "source": [
        "Q19\tA research scientist wants to know how many times per hour a certain strand of bacteria reproduces.  He believes that the mean is 12.6.  Assume the variance is known to be 3.61.  How large of a sample would be required in order to estimate the mean number of reproductions per hour at the 95% confidence level with an error of at most 0.19 reproductions? (Round your answer up to the next integer)\n"
      ],
      "metadata": {
        "id": "CIdWzUL7cgaG"
      }
    },
    {
      "cell_type": "code",
      "source": [
        "mymean=12.6\n",
        "mysd=3.61\n",
        "conlvl=.95\n",
        "se =.13\n",
        "z = norm.cdf(.05)\n",
        "print(z)\n",
        "ans = (z*mysd/se)**2\n",
        "print (\"Est mean is\",round(ans,0))"
      ],
      "metadata": {
        "colab": {
          "base_uri": "https://localhost:8080/"
        },
        "id": "PdsZMjP8cjxo",
        "outputId": "8eec6b50-afc0-4dc7-d5c0-a5c52f1df3ce"
      },
      "execution_count": 318,
      "outputs": [
        {
          "output_type": "stream",
          "name": "stdout",
          "text": [
            "0.5199388058383725\n",
            "Est mean is 208.0\n"
          ]
        }
      ]
    },
    {
      "cell_type": "markdown",
      "source": [
        "Q20\tThe state education commission wants to estimate the fraction of tenth grade students that have reading skills at or below the eighth grade level.\n",
        "\n",
        "Step 1. Suppose a sample of 2089 tenth graders is drawn. Of the students sampled, 1734 read above the eighth grade level.  Using the data, estimate the proportion of tenth graders reading at or below the eighth grade level. (Write your answer as a fraction or a decimal number rounded to 3 decimal places) \n",
        "\n",
        "\n",
        "Step 2. Suppose a sample of 2089 tenth graders is drawn.  Of the students sampled, 1734 read above the eighth grade level.  Using the data, construct the 98% confidence interval for the population proportion of tenth graders reading at or below the eighth grade level. (Round your answers to 3 decimal places)\n",
        "Upper Bound:\n",
        "Lower Bound:\n",
        "\n",
        "\n"
      ],
      "metadata": {
        "id": "0QWINBQmckCp"
      }
    },
    {
      "cell_type": "code",
      "source": [
        "n = 2089\n",
        "above_8g = 1734\n",
        "below_8g = n - above_8g\n",
        "ans = below_8g / n\n",
        "print(\"step1 is\",round((ans),3))\n",
        "\n",
        "tvalue=t.ppf(.98,1733) #90% and n-1\n",
        "lower=mymean-tvalue*mysd/ans**.5\n",
        "upper=mymean+tvalue*mysd/ans**.5\n",
        "print(\"lower bound is\",round(lower,3),\", upper bound is\",round(upper,3))"
      ],
      "metadata": {
        "colab": {
          "base_uri": "https://localhost:8080/"
        },
        "id": "QgWjul1Kcocn",
        "outputId": "647faf86-01d0-49b0-fa38-13366e09f7ed"
      },
      "execution_count": 319,
      "outputs": [
        {
          "output_type": "stream",
          "name": "stdout",
          "text": [
            "step1 is 0.17\n",
            "lower bound is -5.399 , upper bound is 30.599\n"
          ]
        }
      ]
    },
    {
      "cell_type": "markdown",
      "source": [
        "Q21\tAn environmentalist wants to find out the fraction of oil tankers that have spills each month.\n",
        "\n",
        "Step 1. Suppose a sample of 474 tankers is drawn.  Of these ships, 156 had spills.  Using the data, estimate the proportion of oil tankers that had spills. (Write your answer as a fraction or a decimal number rounded to 3 decimal places) \n",
        "\n",
        "[Continued on next page ....]\n",
        "\f\n",
        "Step 2. Suppose a sample of 474 tankers is drawn.  Of these ships, 156 had spills.  Using the data, construct the 95% confidence interval for the population proportion of oil tankers that have spills each month. (Round your answers to 3 decimal places)\n",
        "Upper Bound:\n",
        "Lower Bound:\n",
        "\n",
        "\n",
        "\n"
      ],
      "metadata": {
        "id": "au0oFFxOcouB"
      }
    },
    {
      "cell_type": "code",
      "source": [
        "n = 474\n",
        "spills = 156\n",
        "withoutspills = n - spills\n",
        "ans = spills / n\n",
        "print(\"step1 is\",round((ans),3))\n",
        "\n",
        "tvalue=t.ppf(.95,155) #90% and n-1\n",
        "lower=mymean-tvalue*mysd/ans**.5\n",
        "upper=mymean+tvalue*mysd/ans**.5\n",
        "print(\"lower bound is\",round(lower,3),\", upper bound is\",round(upper,3))"
      ],
      "metadata": {
        "colab": {
          "base_uri": "https://localhost:8080/"
        },
        "id": "XPCiLc8jctJs",
        "outputId": "b74d9144-8691-490b-b601-eb68fe978bf6"
      },
      "execution_count": 320,
      "outputs": [
        {
          "output_type": "stream",
          "name": "stdout",
          "text": [
            "step1 is 0.329\n",
            "lower bound is 2.187 , upper bound is 23.013\n"
          ]
        }
      ]
    }
  ]
}