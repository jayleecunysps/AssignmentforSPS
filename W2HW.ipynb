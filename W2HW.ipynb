{
  "nbformat": 4,
  "nbformat_minor": 0,
  "metadata": {
    "colab": {
      "name": "W2HW.ipynb",
      "provenance": [],
      "collapsed_sections": [],
      "authorship_tag": "ABX9TyPSLdChK1gGD1KBFSQlkOMu",
      "include_colab_link": true
    },
    "kernelspec": {
      "name": "python3",
      "display_name": "Python 3"
    },
    "language_info": {
      "name": "python"
    }
  },
  "cells": [
    {
      "cell_type": "markdown",
      "metadata": {
        "id": "view-in-github",
        "colab_type": "text"
      },
      "source": [
        "<a href=\"https://colab.research.google.com/github/jayleecunysps/AssignmentforSPS/blob/main/W2HW.ipynb\" target=\"_parent\"><img src=\"https://colab.research.google.com/assets/colab-badge.svg\" alt=\"Open In Colab\"/></a>"
      ]
    },
    {
      "cell_type": "markdown",
      "source": [
        "Question1"
      ],
      "metadata": {
        "id": "yCZTX1pr3UIY"
      }
    },
    {
      "cell_type": "code",
      "execution_count": 19,
      "metadata": {
        "colab": {
          "base_uri": "https://localhost:8080/"
        },
        "id": "nTsRjxtjhhey",
        "outputId": "a5c06a59-719b-4f06-ec65-655e0c97107e"
      },
      "outputs": [
        {
          "output_type": "stream",
          "name": "stdout",
          "text": [
            "Eigenvalues: [-7.  6.]\n",
            "Eigenvectors [[-0.9486833  -0.24253563]\n",
            " [ 0.31622777 -0.9701425 ]]\n"
          ]
        }
      ],
      "source": [
        "from numpy import array\n",
        "from numpy.linalg import eig\n",
        "\n",
        "#p.118-119\n",
        "\n",
        "a = array([\n",
        "  [-6, 3],\n",
        "  [4, 5 ]])\n",
        "\n",
        "values,vectors=eig(a)\n",
        "print('Eigenvalues:', values)\n",
        "print('Eigenvectors', vectors)\n",
        "\n"
      ]
    },
    {
      "cell_type": "markdown",
      "source": [
        "Question2"
      ],
      "metadata": {
        "id": "naCh4OpN3i5E"
      }
    },
    {
      "cell_type": "code",
      "source": [
        "from numpy import array\n",
        "from numpy.linalg import det\n",
        "\n",
        "a = array([\n",
        "  [-6, 3],\n",
        "  [4, 5 ]])\n",
        "\n",
        "#p.84\n",
        "\n",
        "print(A)\n",
        "B = det(A)\n",
        "print(B)"
      ],
      "metadata": {
        "colab": {
          "base_uri": "https://localhost:8080/"
        },
        "id": "xYJXuz163krv",
        "outputId": "a5019b18-cc89-42e5-c8a3-1932bbe25901"
      },
      "execution_count": 20,
      "outputs": [
        {
          "output_type": "stream",
          "name": "stdout",
          "text": [
            "[[-6  3]\n",
            " [ 4  5]]\n",
            "-41.999999999999986\n"
          ]
        }
      ]
    },
    {
      "cell_type": "markdown",
      "source": [
        "Question3"
      ],
      "metadata": {
        "id": "k1TV3ugQBKsk"
      }
    },
    {
      "cell_type": "code",
      "source": [
        "a = np.array([\n",
        "  [-6, 3],\n",
        "  [4, 5]])\n",
        "\n",
        "#last page of ppt\n",
        "\n",
        "b = np.array([1, 2])\n",
        "x = np.linalg.solve(a, b)\n",
        "print (x)"
      ],
      "metadata": {
        "colab": {
          "base_uri": "https://localhost:8080/"
        },
        "id": "7KbscnJEBHYw",
        "outputId": "6cbaa6ae-1511-411a-b609-8b1c43be6379"
      },
      "execution_count": 23,
      "outputs": [
        {
          "output_type": "stream",
          "name": "stdout",
          "text": [
            "[0.02380952 0.38095238]\n"
          ]
        }
      ]
    }
  ]
}