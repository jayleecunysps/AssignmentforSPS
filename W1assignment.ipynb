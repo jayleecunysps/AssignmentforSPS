{
  "nbformat": 4,
  "nbformat_minor": 0,
  "metadata": {
    "colab": {
      "name": "W1assignment.ipynb",
      "provenance": [],
      "collapsed_sections": [],
      "authorship_tag": "ABX9TyMNnyrfQ4ZoGveLjWfdz90g",
      "include_colab_link": true
    },
    "kernelspec": {
      "name": "python3",
      "display_name": "Python 3"
    },
    "language_info": {
      "name": "python"
    }
  },
  "cells": [
    {
      "cell_type": "markdown",
      "metadata": {
        "id": "view-in-github",
        "colab_type": "text"
      },
      "source": [
        "<a href=\"https://colab.research.google.com/github/jayleecunysps/AssignmentforSPS/blob/main/W1assignment.ipynb\" target=\"_parent\"><img src=\"https://colab.research.google.com/assets/colab-badge.svg\" alt=\"Open In Colab\"/></a>"
      ]
    },
    {
      "cell_type": "markdown",
      "source": [
        "Ch1 Even-Odd Vending Machine"
      ],
      "metadata": {
        "id": "_IgJLLF4XTN4"
      }
    },
    {
      "cell_type": "code",
      "execution_count": 60,
      "metadata": {
        "colab": {
          "base_uri": "https://localhost:8080/"
        },
        "id": "zfvrrOi-XG7B",
        "outputId": "391384c4-3f5a-49d7-e3b5-edf34dd968f4"
      },
      "outputs": [
        {
          "output_type": "stream",
          "name": "stdout",
          "text": [
            "Please enter an integer: 2\n",
            "You enter a even number\n",
            "4\n",
            "6\n",
            "8\n",
            "10\n",
            "12\n",
            "14\n",
            "16\n",
            "18\n",
            "20\n"
          ]
        }
      ],
      "source": [
        "\n",
        "def evenoddvending(number):\n",
        "\n",
        "    if (number %2) == 0:   #no leftover means even, else mean odd\n",
        "        print('You enter a even number')\n",
        "\n",
        "    else:\n",
        "        print('You enter a odd number')\n",
        "    count = 1\n",
        "    while count <=9:\n",
        "        number +=2       #number add 2 no matter even or odd\n",
        "        print(number)\n",
        "        count +=1     # while loop to make sure count add one time in every loop until count <=9\n",
        "\n",
        "if __name__ == '__main__':   #main will show the same color as __main__ #the statement within the block are executed\n",
        "\n",
        "    try:\n",
        "        number = float(input('Please enter an integer: '))   #direct input\n",
        "        if number.is_integer():\n",
        "            evenoddvending(int(number))    #going to the main code which identify if odd or even\n",
        "        else:\n",
        "            print('Please re-run and make sure the number is integer not float')\n",
        "    except ValueError: #not int or float\n",
        "        print('Please re-run and enter an invalid number, no text and symbol')\n",
        "\n"
      ]
    },
    {
      "cell_type": "markdown",
      "source": [
        "Ch3 Statistics Calculator\n"
      ],
      "metadata": {
        "id": "PWnL3VaTh4ke"
      }
    },
    {
      "cell_type": "code",
      "source": [
        "from collections import Counter\n",
        "\n",
        "def mean(numbers):\n",
        "    s=sum(numbers)\n",
        "    N=len(numbers)\n",
        "    mean=s/N\n",
        "    return mean              #p.62\n",
        "\n",
        "\n",
        "def median(numbers):\n",
        "    N=len(numbers)\n",
        "    numbers.sort()\n",
        "\n",
        "    if N%2==0:          #means even\n",
        "        m1=N/2\n",
        "        m2=(N/2)+1\n",
        "        m1=int(m1)-1\n",
        "        m2=int(m2)-1\n",
        "        median=(numbers[m1]+numbers[m2])/2\n",
        "    else:\n",
        "        m=(N+1)/2\n",
        "        m=int(m)-1\n",
        "        median=numbers[m]\n",
        "    return median              #p.64\n",
        "\n",
        "def mode(numbers):      \n",
        "    c=Counter(numbers)\n",
        "    mode=c.most_common(1)\n",
        "    return mode[0][0]          #p.67\n",
        "\n",
        "\n",
        "def find_differences(numbers):\n",
        "    m = mean(numbers)\n",
        "    diff = []\n",
        "    for num in numbers:\n",
        "        diff.append(num - m)\n",
        "\n",
        "    return diff              #p.73\n",
        "\n",
        "\n",
        "def variance_sd(numbers):\n",
        "    diff = find_differences(numbers)\n",
        "    squared_diff = []\n",
        "    for d in diff:\n",
        "        squared_diff.append(d ** 2)\n",
        "    sum_squared_diff=sum(squared_diff)\n",
        "    variance = sum_squared_diff/len(numbers)\n",
        "    return variance, variance ** 0.5        #p.74\n",
        "\n",
        "#code above are create by book writer in ch.3  from page 73,74,62,64,67\n",
        "\n",
        "def read_mydatatxt(samplefile): \n",
        "    numbers = []                       \n",
        "    with open(samplefile) as f:     #ref. P.84-85\n",
        "        for line in f:\n",
        "            numbers.append(float(line))\n",
        "\n",
        "    return numbers\n",
        "\n",
        "if __name__=='__main__':\n",
        "    data=read_mydatatxt('mydata.txt') \n",
        "    m=mean(data)\n",
        "    median=median(data)\n",
        "    mode=mode(data)\n",
        "    variance,sd=variance_sd(data)\n",
        "    print('mean: {0}'.format(m))   #p.19\n",
        "    print('median: {0}'.format(median))\n",
        "    print('mode: {0}'.format(mode))\n",
        "    print('variance: {0}'.format(variance))\n",
        "    print('standard deviation: {0}'.format(sd))\n"
      ],
      "metadata": {
        "colab": {
          "base_uri": "https://localhost:8080/"
        },
        "id": "dawMfPAmh87u",
        "outputId": "1e947b29-4965-4a9a-fc8b-4229efe84d51"
      },
      "execution_count": 59,
      "outputs": [
        {
          "output_type": "stream",
          "name": "stdout",
          "text": [
            "mean: 477.75\n",
            "median: 500.0\n",
            "mode: 100.0\n",
            "variance: 141047.35416666666\n",
            "standard deviation: 375.5627166887931\n"
          ]
        }
      ]
    },
    {
      "cell_type": "markdown",
      "source": [
        "CH5 Law of Large Numbers"
      ],
      "metadata": {
        "id": "V2Jx3Hr1h8WX"
      }
    },
    {
      "cell_type": "code",
      "source": [
        "def roll(numbers_trials):\n",
        "    rolls = []\n",
        "    for t in range(numbers_trials):         #for loop\n",
        "        rolls.append(random.randint(1,6))   #p.135 (random.randint(1,6) means random of six side die = 1/6\n",
        "    return sum(rolls)/numbers_trials\n",
        "\n",
        "if __name__ == '__main__':\n",
        "    expected_value = 3.5\n",
        "    print('Expected value: {0}'.format(expected_value))\n",
        "    for trial in [100,1000,10000,100000,500000]:   #set for how many times\n",
        "        avg = roll(trial)\n",
        "        print('trials: {0} trial avg {1}'.format(trial, avg)) #final result format\n",
        "\n"
      ],
      "metadata": {
        "colab": {
          "base_uri": "https://localhost:8080/"
        },
        "id": "_JYaoAUNlMHq",
        "outputId": "ef800a54-a251-41a9-974e-bfdef6c124e1"
      },
      "execution_count": 56,
      "outputs": [
        {
          "output_type": "stream",
          "name": "stdout",
          "text": [
            "Expected value: 3.5\n",
            "trials: 100 trial avg 3.84\n",
            "trials: 1000 trial avg 3.556\n",
            "trials: 10000 trial avg 3.4853\n",
            "trials: 100000 trial avg 3.50118\n",
            "trials: 500000 trial avg 3.49965\n"
          ]
        }
      ]
    },
    {
      "cell_type": "markdown",
      "source": [
        "CH7"
      ],
      "metadata": {
        "id": "toR9igFTooy4"
      }
    },
    {
      "cell_type": "code",
      "source": [
        "from sympy import Derivative, Symbol, sympify, solve #library for symbolic computation Ch4\n",
        "\n",
        "def grad_descent(x0, f1x, x): #ref. to p.198\n",
        "    if not solve(f1x):\n",
        "        print('Cannot continue, solution for {0}=0 does not exist'.format(f1x)) \n",
        "        return None\n",
        "    epsilon=1e-6 \n",
        "    step_size=1e-4\n",
        "    x_old=x0 \n",
        "    x_new=x_old-step_size*f1x.subs({x: x_old}).evalf()  #ref. to p.198\n",
        "\n",
        "    x_traversed = []\n",
        "    while abs(x_old-x_new)>epsilon:\n",
        "        X_traversed.append(x_new) #append all the x_new\n",
        "        x_old=x_new\n",
        "        x_new=x_old-step_size*f1x.subs({x:x_old}).evalf() #ref. to p.198\n",
        "\n",
        "    return x_new, x_traversed\n",
        "\n",
        "def frange(start, final, interval):   #p.51\n",
        "    numbers = []\n",
        "    while start < final:\n",
        "        numbers.append(start)\n",
        "        start = start+interval\n",
        "\n",
        "    return numbers   #p.51\n",
        "\n",
        "if __name__ == '__main__':  #p.195\n",
        "\n",
        "    f = input('enter a function in one variable: ')\n",
        "    var = input('enter the variable to differentiate with respect to: ')\n",
        "    var0 = float(input('enter the initial value of the variable: '))\n",
        "    try:\n",
        "        f = sympify(f)\n",
        "    except SympifyError:\n",
        "        print('invalid function entered')\n",
        "    else:\n",
        "        var = Symbol(var)\n",
        "        d = Derivative(f, var).doit()  \n",
        "        var_min, x_traversed=grad_descent(var0, d, var)\n",
        "        if var_min:\n",
        "            print('{0}: {1}'.format(var.name,var_min))\n",
        "            print('Minimum value: {0}'.format(f.subs({var:var_min})))   #p.195\n",
        "            \n"
      ],
      "metadata": {
        "colab": {
          "base_uri": "https://localhost:8080/"
        },
        "id": "68iqgKKPop40",
        "outputId": "8d1f7378-0375-41b2-cb12-22e024db8d00"
      },
      "execution_count": 52,
      "outputs": [
        {
          "output_type": "stream",
          "name": "stdout",
          "text": [
            "enter a function in one variable: 3*x**2+2*x\n",
            "enter the variable to differentiate with respect to: x\n",
            "enter the initial value of the variable: .1\n",
            "x: -0.331668643986980\n",
            "Minimum value: -0.333325019761474\n"
          ]
        }
      ]
    }
  ]
}