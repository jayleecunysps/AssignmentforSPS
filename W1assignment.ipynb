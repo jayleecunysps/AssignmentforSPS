{
  "nbformat": 4,
  "nbformat_minor": 0,
  "metadata": {
    "colab": {
      "name": "W1assignment.ipynb",
      "provenance": [],
      "collapsed_sections": [],
      "authorship_tag": "ABX9TyMzaXPLBJIk2GyYoNCna9lS",
      "include_colab_link": true
    },
    "kernelspec": {
      "name": "python3",
      "display_name": "Python 3"
    },
    "language_info": {
      "name": "python"
    }
  },
  "cells": [
    {
      "cell_type": "markdown",
      "metadata": {
        "id": "view-in-github",
        "colab_type": "text"
      },
      "source": [
        "<a href=\"https://colab.research.google.com/github/jayleecunysps/AssignmentforSPS/blob/main/W1assignment.ipynb\" target=\"_parent\"><img src=\"https://colab.research.google.com/assets/colab-badge.svg\" alt=\"Open In Colab\"/></a>"
      ]
    },
    {
      "cell_type": "markdown",
      "source": [
        "Ch1 Even-Odd Vending Machine"
      ],
      "metadata": {
        "id": "_IgJLLF4XTN4"
      }
    },
    {
      "cell_type": "code",
      "execution_count": null,
      "metadata": {
        "colab": {
          "base_uri": "https://localhost:8080/"
        },
        "id": "zfvrrOi-XG7B",
        "outputId": "bb86ae83-d6b7-4acf-f653-45d068ac5a0b"
      },
      "outputs": [
        {
          "output_type": "stream",
          "name": "stdout",
          "text": [
            "Enter an integer: 1\n",
            "Odd\n",
            "3\n",
            "5\n",
            "7\n",
            "9\n",
            "11\n",
            "13\n",
            "15\n",
            "17\n",
            "19\n"
          ]
        }
      ],
      "source": [
        "\n",
        "def evenoddvending(number):\n",
        "\n",
        "    if (number % 2) == 0:   #no leftover means even, else mean odd\n",
        "        print('Even')\n",
        "\n",
        "    else:\n",
        "        print('Odd')\n",
        "    count = 1\n",
        "    while count <= 9:\n",
        "        number += 2       #number add 2 no matter even or odd\n",
        "        print(number)\n",
        "        count += 1     # while loop to make sure count add one time in every loop until count <=9\n",
        "\n",
        "if __name__ == '__main__':   #main will show the same color as __main__\n",
        "    try:\n",
        "        number = float(input('Enter an integer: '))   #direct input\n",
        "        if number.is_integer():\n",
        "            evenoddvending(int(number))    #going to the main code which identify if odd or even\n",
        "        else:\n",
        "            print('Please re-run and make sure the number is integer not float')\n",
        "    except ValueError: #not int or float\n",
        "        print('Please re-run and enter an invalid number, no text and symbol')\n",
        "\n"
      ]
    },
    {
      "cell_type": "markdown",
      "source": [
        "Ch3 Statistics Calculator\n"
      ],
      "metadata": {
        "id": "PWnL3VaTh4ke"
      }
    },
    {
      "cell_type": "code",
      "source": [
        "from collections import Counter\n",
        "\n",
        "\n",
        "def mean(numbers):\n",
        "    s = sum(numbers)\n",
        "    N = len(numbers)\n",
        "    mean = s/N\n",
        "    return mean\n",
        "\n",
        "\n",
        "def median(numbers):\n",
        "    N = len(numbers)\n",
        "\n",
        "    numbers.sort()\n",
        "\n",
        "\n",
        "    if N%2 == 0:          #means even\n",
        "        m1 = N/2\n",
        "        m2 = (N/2)+1\n",
        "        m1 = int(m1)-1\n",
        "        m2 = int(m2)-1\n",
        "        median = (numbers[m1]+numbers[m2])/2\n",
        "    else:\n",
        "        m = (N+1)/2\n",
        "        m = int(m)-1\n",
        "        median = numbers[m]\n",
        "    return median\n",
        "\n",
        "def mode(numbers):\n",
        "    c = Counter(numbers)\n",
        "    mode = c.most_common(1)\n",
        "    return mode[0][0]\n",
        "\n",
        "\n",
        "def find_differences(numbers):\n",
        "    m = mean(numbers)\n",
        "    diff = []\n",
        "    for num in numbers:\n",
        "        diff.append(num - m)\n",
        "\n",
        "    return diff\n",
        "\n",
        "\n",
        "def variance_sd(numbers):\n",
        "    diff = find_differences(numbers)\n",
        "    squared_diff = []\n",
        "    for d in diff:\n",
        "        squared_diff.append(d ** 2)\n",
        "    sum_squared_diff = sum(squared_diff)\n",
        "    variance = sum_squared_diff / len(numbers)\n",
        "    return variance, variance ** 0.5\n",
        "\n",
        "#code above are create by book writer in ch.3  from page 73,74,63,64\n",
        "\n",
        "def read_mydatatxt(samplefile):\n",
        "    numbers = []\n",
        "    with open(samplefile) as f:\n",
        "        for line in f:\n",
        "            numbers.append(float(line))\n",
        "\n",
        "    return numbers\n",
        "\n",
        "if __name__=='__main__':\n",
        "    data = read_mydatatxt('mydata.txt')\n",
        "    m = mean(data)\n",
        "    median = median(data)\n",
        "    mode = mode(data)\n",
        "    variance, sd = variance_sd(data)\n",
        "    print('Mean: {0:.2f}'.format(m))   #p.19\n",
        "    print('Median: {0:.2f}'.format(median))\n",
        "    print('Mode: {0:.2f}'.format(mode))\n",
        "    print('Variance: {0:.2f}'.format(variance))\n",
        "    print('Standard deviation: {0:.2f}'.format(sd))\n"
      ],
      "metadata": {
        "colab": {
          "base_uri": "https://localhost:8080/"
        },
        "id": "dawMfPAmh87u",
        "outputId": "9678a778-ff7b-4bad-cb26-1316416ea672"
      },
      "execution_count": null,
      "outputs": [
        {
          "output_type": "stream",
          "name": "stdout",
          "text": [
            "Mean: 477.75\n",
            "Median: 500.00\n",
            "Mode: 100.00\n",
            "Variance: 141047.35\n",
            "Standard deviation: 375.56\n"
          ]
        }
      ]
    },
    {
      "cell_type": "markdown",
      "source": [
        "CH5"
      ],
      "metadata": {
        "id": "V2Jx3Hr1h8WX"
      }
    },
    {
      "cell_type": "code",
      "source": [
        "def roll(numbers_trials):\n",
        "    rolls = []\n",
        "    for t in range(numbers_trials):\n",
        "        rolls.append(random.randint(1, 6))\n",
        "    return sum(rolls) / numbers_trials\n",
        "\n",
        "\n",
        "if __name__ == '__main__':\n",
        "    expected_value = 3.5\n",
        "    print('Expected value: {0}'.format(expected_value))\n",
        "    for trial in [100, 1000, 10000, 100000, 500000]:\n",
        "        avg = roll(trial)\n",
        "        print('Trials: {0} Trial average {1}'.format(trial, avg))\n",
        "\n"
      ],
      "metadata": {
        "colab": {
          "base_uri": "https://localhost:8080/"
        },
        "id": "_JYaoAUNlMHq",
        "outputId": "163a05ac-9c5f-4e05-83f2-236791f8d3a6"
      },
      "execution_count": null,
      "outputs": [
        {
          "output_type": "stream",
          "name": "stdout",
          "text": [
            "Expected value: 3.5\n",
            "Trials: 100 Trial average 3.39\n",
            "Trials: 1000 Trial average 3.612\n",
            "Trials: 10000 Trial average 3.4704\n",
            "Trials: 100000 Trial average 3.50314\n",
            "Trials: 500000 Trial average 3.499042\n"
          ]
        }
      ]
    },
    {
      "cell_type": "markdown",
      "source": [
        "CH7"
      ],
      "metadata": {
        "id": "toR9igFTooy4"
      }
    },
    {
      "cell_type": "code",
      "source": [
        "from sympy import Derivative, Symbol, sympify, solve #library for symbolic computation Ch4\n",
        "import matplotlib.pyplot as matplt  #collection of functions Ch2\n",
        "\n",
        "\n",
        "def grad_descent(x0, f1x, x):\n",
        "    if not solve(f1x):\n",
        "        print('Cannot continue, solution for {0}=0 does not exist'.format(f1x))\n",
        "        return None\n",
        "    epsilon = 1e-6\n",
        "    step_size = 1e-4\n",
        "    x_old = x0\n",
        "    x_new = x_old - step_size * f1x.subs({x: x_old}).evalf()\n",
        "\n",
        "\n",
        "    X_traversed = []\n",
        "    while abs(x_old - x_new) > epsilon:\n",
        "        X_traversed.append(x_new)\n",
        "        x_old = x_new\n",
        "        x_new = x_old - step_size * f1x.subs({x: x_old}).evalf()\n",
        "\n",
        "    return x_new, X_traversed\n",
        "\n",
        "\n",
        "def frange(start, final, interval):\n",
        "    numbers = []\n",
        "    while start < final:\n",
        "        numbers.append(start)\n",
        "        start = start + interval\n",
        "\n",
        "    return numbers\n",
        "\n",
        "\n",
        "def create_plot(X_traversed, f, var):\n",
        "    x_val = frange(-1, 1, 0.01)\n",
        "    f_val = [f.subs({var: x}) for x in x_val]\n",
        "    matplt.plot(x_val, f_val, 'bo')\n",
        "    f_traversed = [f.subs({var: x}) for x in X_traversed]\n",
        "    matplt.plot(X_traversed, f_traversed, 'r.')\n",
        "    matplt.legend(['Function', 'Intermediate points'], loc='best')\n",
        "    matplt.show()\n",
        "\n",
        "\n",
        "if __name__ == '__main__':\n",
        "\n",
        "    f = input('Enter a function in one variable: ')\n",
        "    var = input('Enter the variable to differentiate with respect to: ')\n",
        "    var0 = float(input('Enter the initial value of the variable: '))\n",
        "    try:\n",
        "        f = sympify(f)\n",
        "    except SympifyError:\n",
        "        print('Invalid function entered')\n",
        "    else:\n",
        "        var = Symbol(var)\n",
        "        d = Derivative(f, var).doit()\n",
        "        var_min, X_traversed = grad_descent(var0, d, var)\n",
        "        if var_min:\n",
        "            print('{0}: {1}'.format(var.name, var_min))\n",
        "            print('Minimum value: {0}'.format(f.subs({var: var_min})))\n",
        "            create_plot(X_traversed, f, var)\n",
        "1"
      ],
      "metadata": {
        "colab": {
          "base_uri": "https://localhost:8080/",
          "height": 367
        },
        "id": "68iqgKKPop40",
        "outputId": "48e902dc-dfb2-48ca-ae09-52f057de4638"
      },
      "execution_count": null,
      "outputs": [
        {
          "output_type": "stream",
          "name": "stdout",
          "text": [
            "Enter a function in one variable: 9*x**2 + 3*x\n",
            "Enter the variable to differentiate with respect to: x\n",
            "Enter the initial value of the variable: .1\n",
            "x: -0.166112317537704\n",
            "Minimum value: -0.249997234273389\n"
          ]
        },
        {
          "output_type": "display_data",
          "data": {
            "image/png": "[encoded data removed]",
            "text/plain": [
              "<Figure size 432x288 with 1 Axes>"
            ]
          },
          "metadata": {
            "needs_background": "light"
          }
        },
        {
          "output_type": "execute_result",
          "data": {
            "text/plain": [
              "1"
            ]
          },
          "metadata": {},
          "execution_count": 28
        }
      ]
    }
  ]
}